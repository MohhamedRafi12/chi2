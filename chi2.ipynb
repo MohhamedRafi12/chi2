{
 "cells": [
  {
   "cell_type": "markdown",
   "id": "88baf4db-95c5-464a-ad7a-d6e06326b823",
   "metadata": {},
   "source": [
    "Exploring the $\\chi^2$ distribution\n",
    "==="
   ]
  },
  {
   "cell_type": "markdown",
   "id": "c39ca256-22e4-42d9-8043-3109681490ab",
   "metadata": {},
   "source": [
    "Start with some model to generate random data.  <br> \n",
    "We'll use $1+\\frac{sin(x)}{x+1}$ over the range $0\\leq x<15$ <br>\n",
    "Generate $N$ random numbers according to this distribution and make a histogram of the results using 30 bins. \n",
    "\n",
    "An easy way to generate random numbers according to an arbitrary distribution is to use rejection sampling (here's a great [decription  of the technique](https://matthewfeickert.github.io/Statistics-Notes/notebooks/simulation/Rejection-Sampling-MC.html) )\n",
    "\n",
    "1) Make a histogram of your random distribution.  Verify that the the numbers you generated agree with the shape of the function.  Generate at least 5000 points and plot your data histogram with errorbars.  You can use numpy+matplotlib+etc or pyROOT or a mix.  Think about how to appropriately normalize your function to overlay it with the data.  The normalization depends on the number of bins, the bin range and the number of points thrown.  You may find it easier to first nromalize the area of your function to 1.0, thus turning it into a proper PDF.  "
   ]
  },
  {
   "cell_type": "code",
   "execution_count": 1,
   "id": "585c5184-40eb-40b3-a487-052ceb3c6343",
   "metadata": {},
   "outputs": [],
   "source": [
    "# your work goes here"
   ]
  },
  {
   "cell_type": "markdown",
   "id": "d77ce173-0f5c-4ff1-b736-fc1b231d260a",
   "metadata": {},
   "source": [
    "2) Repeat the above experiment at least 1000 times.  For each experiment calculate the $\\chi^2$ of your data with respect to your (properly normalized) model.  Plot (histogram) the $\\chi^2$ distribution and compare it to the functional form of the $\\chi^2(ndof=30)$ distribution.  You can find the form of the $\\chi^2(ndof)$ PDF function in many places and implement it using the Gamma function or use a premade function, eg:\n",
    "* [wikipedia](https://en.wikipedia.org/wiki/Chi-squared_distribution)\n",
    "* [scipy.stats.chi2](https://docs.scipy.org/doc/scipy/reference/generated/scipy.stats.chi2.html#scipy.stats.chi2)"
   ]
  },
  {
   "cell_type": "code",
   "execution_count": null,
   "id": "65550afa-3020-47ac-b1f4-fbf5f303cd19",
   "metadata": {},
   "outputs": [],
   "source": [
    "# your work goes here"
   ]
  },
  {
   "cell_type": "markdown",
   "id": "62a63730-f32a-4cf7-b011-814e9cf55b5a",
   "metadata": {},
   "source": [
    "**Only required for Phys5630**\n",
    "\n",
    "3) Modify your code above to perform the following study.  <br>\n",
    "Repeat (2), generating 10k random points for each experiment.  But calculate the reduced $\\chi^2$, eg $\\chi^2/ndof$, for each experiment.  For your 1000 experiments, calculate the mean value of the reduced $\\chi^2$ and its standard deviation.  Repeat this for nbins = $ndof = 30, 50, 75, 100$  Plot your mean values with errorbars vs $ndof$.  How does this compare to expectations?"
   ]
  },
  {
   "cell_type": "code",
   "execution_count": null,
   "id": "615cc7c9-8cdd-4167-9311-3dd8450c03f2",
   "metadata": {},
   "outputs": [],
   "source": [
    "# your work goes here"
   ]
  }
 ],
 "metadata": {
  "kernelspec": {
   "display_name": "Python 3 (ipykernel)",
   "language": "python",
   "name": "python3"
  },
  "language_info": {
   "codemirror_mode": {
    "name": "ipython",
    "version": 3
   },
   "file_extension": ".py",
   "mimetype": "text/x-python",
   "name": "python",
   "nbconvert_exporter": "python",
   "pygments_lexer": "ipython3",
   "version": "3.10.13"
  }
 },
 "nbformat": 4,
 "nbformat_minor": 5
}
